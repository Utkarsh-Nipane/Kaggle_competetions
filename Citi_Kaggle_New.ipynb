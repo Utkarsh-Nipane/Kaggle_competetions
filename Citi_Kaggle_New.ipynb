{
 "cells": [
  {
   "cell_type": "code",
   "execution_count": 65,
   "metadata": {},
   "outputs": [],
   "source": [
    "import numpy as np\n",
    "import matplotlib.pyplot as plt\n",
    "import pandas as pd"
   ]
  },
  {
   "cell_type": "code",
   "execution_count": 66,
   "metadata": {},
   "outputs": [],
   "source": [
    "from sklearn.model_selection import train_test_split, cross_val_score\n",
    "from sklearn.externals.six import StringIO  \n",
    "from sklearn.tree import DecisionTreeClassifier, export_graphviz\n",
    "from sklearn.metrics import mean_squared_error,confusion_matrix, classification_report"
   ]
  },
  {
   "cell_type": "code",
   "execution_count": 67,
   "metadata": {},
   "outputs": [],
   "source": [
    "# Import logistic regression function\n",
    "from sklearn.linear_model import LogisticRegression\n",
    "# calculate accuracy measures and confusion matrix\n",
    "from sklearn import metrics"
   ]
  },
  {
   "cell_type": "code",
   "execution_count": 68,
   "metadata": {},
   "outputs": [],
   "source": [
    "test = pd.read_csv('test.csv')"
   ]
  },
  {
   "cell_type": "code",
   "execution_count": 69,
   "metadata": {},
   "outputs": [
    {
     "data": {
      "text/html": [
       "<div>\n",
       "<style scoped>\n",
       "    .dataframe tbody tr th:only-of-type {\n",
       "        vertical-align: middle;\n",
       "    }\n",
       "\n",
       "    .dataframe tbody tr th {\n",
       "        vertical-align: top;\n",
       "    }\n",
       "\n",
       "    .dataframe thead th {\n",
       "        text-align: right;\n",
       "    }\n",
       "</style>\n",
       "<table border=\"1\" class=\"dataframe\">\n",
       "  <thead>\n",
       "    <tr style=\"text-align: right;\">\n",
       "      <th></th>\n",
       "      <th>Ref.No</th>\n",
       "      <th>X1</th>\n",
       "      <th>X2</th>\n",
       "      <th>X3</th>\n",
       "      <th>X4</th>\n",
       "      <th>X5</th>\n",
       "      <th>X6</th>\n",
       "      <th>X7</th>\n",
       "      <th>X8</th>\n",
       "      <th>X9</th>\n",
       "      <th>...</th>\n",
       "      <th>X14</th>\n",
       "      <th>X15</th>\n",
       "      <th>X16</th>\n",
       "      <th>X17</th>\n",
       "      <th>X18</th>\n",
       "      <th>X19</th>\n",
       "      <th>X20</th>\n",
       "      <th>X21</th>\n",
       "      <th>X22</th>\n",
       "      <th>X23</th>\n",
       "    </tr>\n",
       "  </thead>\n",
       "  <tbody>\n",
       "    <tr>\n",
       "      <th>0</th>\n",
       "      <td>17083.0</td>\n",
       "      <td>50000.0</td>\n",
       "      <td>2.0</td>\n",
       "      <td>1.0</td>\n",
       "      <td>2.0</td>\n",
       "      <td>25.0</td>\n",
       "      <td>0.0</td>\n",
       "      <td>0.0</td>\n",
       "      <td>0.0</td>\n",
       "      <td>0.0</td>\n",
       "      <td>...</td>\n",
       "      <td>40002.0</td>\n",
       "      <td>38008.0</td>\n",
       "      <td>39606</td>\n",
       "      <td>38680</td>\n",
       "      <td>2000</td>\n",
       "      <td>1500</td>\n",
       "      <td>2000</td>\n",
       "      <td>1500</td>\n",
       "      <td>1500</td>\n",
       "      <td>0</td>\n",
       "    </tr>\n",
       "    <tr>\n",
       "      <th>1</th>\n",
       "      <td>3494.0</td>\n",
       "      <td>120000.0</td>\n",
       "      <td>2.0</td>\n",
       "      <td>2.0</td>\n",
       "      <td>2.0</td>\n",
       "      <td>24.0</td>\n",
       "      <td>0.0</td>\n",
       "      <td>0.0</td>\n",
       "      <td>0.0</td>\n",
       "      <td>0.0</td>\n",
       "      <td>...</td>\n",
       "      <td>11761.0</td>\n",
       "      <td>6761.0</td>\n",
       "      <td>13711</td>\n",
       "      <td>8294</td>\n",
       "      <td>12300</td>\n",
       "      <td>32520</td>\n",
       "      <td>34</td>\n",
       "      <td>68</td>\n",
       "      <td>8334</td>\n",
       "      <td>45684</td>\n",
       "    </tr>\n",
       "    <tr>\n",
       "      <th>2</th>\n",
       "      <td>21945.0</td>\n",
       "      <td>120000.0</td>\n",
       "      <td>2.0</td>\n",
       "      <td>2.0</td>\n",
       "      <td>2.0</td>\n",
       "      <td>27.0</td>\n",
       "      <td>1.0</td>\n",
       "      <td>-2.0</td>\n",
       "      <td>-1.0</td>\n",
       "      <td>-1.0</td>\n",
       "      <td>...</td>\n",
       "      <td>2382.0</td>\n",
       "      <td>0.0</td>\n",
       "      <td>18926</td>\n",
       "      <td>17717</td>\n",
       "      <td>1264</td>\n",
       "      <td>1249</td>\n",
       "      <td>625</td>\n",
       "      <td>700</td>\n",
       "      <td>1000</td>\n",
       "      <td>1000</td>\n",
       "    </tr>\n",
       "    <tr>\n",
       "      <th>3</th>\n",
       "      <td>3499.0</td>\n",
       "      <td>60000.0</td>\n",
       "      <td>1.0</td>\n",
       "      <td>1.0</td>\n",
       "      <td>2.0</td>\n",
       "      <td>28.0</td>\n",
       "      <td>0.0</td>\n",
       "      <td>-1.0</td>\n",
       "      <td>0.0</td>\n",
       "      <td>0.0</td>\n",
       "      <td>...</td>\n",
       "      <td>13421.0</td>\n",
       "      <td>9900.0</td>\n",
       "      <td>21071</td>\n",
       "      <td>2099</td>\n",
       "      <td>3008</td>\n",
       "      <td>3000</td>\n",
       "      <td>5000</td>\n",
       "      <td>10000</td>\n",
       "      <td>2099</td>\n",
       "      <td>0</td>\n",
       "    </tr>\n",
       "    <tr>\n",
       "      <th>4</th>\n",
       "      <td>18973.0</td>\n",
       "      <td>100000.0</td>\n",
       "      <td>2.0</td>\n",
       "      <td>1.0</td>\n",
       "      <td>2.0</td>\n",
       "      <td>28.0</td>\n",
       "      <td>3.0</td>\n",
       "      <td>2.0</td>\n",
       "      <td>0.0</td>\n",
       "      <td>0.0</td>\n",
       "      <td>...</td>\n",
       "      <td>49899.0</td>\n",
       "      <td>53407.0</td>\n",
       "      <td>0</td>\n",
       "      <td>0</td>\n",
       "      <td>0</td>\n",
       "      <td>0</td>\n",
       "      <td>0</td>\n",
       "      <td>0</td>\n",
       "      <td>0</td>\n",
       "      <td>0</td>\n",
       "    </tr>\n",
       "  </tbody>\n",
       "</table>\n",
       "<p>5 rows × 24 columns</p>\n",
       "</div>"
      ],
      "text/plain": [
       "    Ref.No        X1   X2   X3   X4    X5   X6   X7   X8   X9  ...        X14  \\\n",
       "0  17083.0   50000.0  2.0  1.0  2.0  25.0  0.0  0.0  0.0  0.0  ...    40002.0   \n",
       "1   3494.0  120000.0  2.0  2.0  2.0  24.0  0.0  0.0  0.0  0.0  ...    11761.0   \n",
       "2  21945.0  120000.0  2.0  2.0  2.0  27.0  1.0 -2.0 -1.0 -1.0  ...     2382.0   \n",
       "3   3499.0   60000.0  1.0  1.0  2.0  28.0  0.0 -1.0  0.0  0.0  ...    13421.0   \n",
       "4  18973.0  100000.0  2.0  1.0  2.0  28.0  3.0  2.0  0.0  0.0  ...    49899.0   \n",
       "\n",
       "       X15    X16    X17    X18    X19   X20    X21   X22    X23  \n",
       "0  38008.0  39606  38680   2000   1500  2000   1500  1500      0  \n",
       "1   6761.0  13711   8294  12300  32520    34     68  8334  45684  \n",
       "2      0.0  18926  17717   1264   1249   625    700  1000   1000  \n",
       "3   9900.0  21071   2099   3008   3000  5000  10000  2099      0  \n",
       "4  53407.0      0      0      0      0     0      0     0      0  \n",
       "\n",
       "[5 rows x 24 columns]"
      ]
     },
     "execution_count": 69,
     "metadata": {},
     "output_type": "execute_result"
    }
   ],
   "source": [
    "test.head()"
   ]
  },
  {
   "cell_type": "code",
   "execution_count": 71,
   "metadata": {
    "scrolled": true
   },
   "outputs": [
    {
     "data": {
      "text/plain": [
       "Index(['Ref.No', 'X1', 'X2', 'X3', 'X4', 'X5', 'X6', 'X7', 'X8', 'X9', 'X10',\n",
       "       'X11', 'X12', 'X13', 'X14', 'X15', 'Y'],\n",
       "      dtype='object')"
      ]
     },
     "execution_count": 71,
     "metadata": {},
     "output_type": "execute_result"
    }
   ],
   "source": [
    "citi = pd.read_csv('train_final.csv')\n",
    "citi.columns"
   ]
  },
  {
   "cell_type": "code",
   "execution_count": 73,
   "metadata": {},
   "outputs": [
    {
     "data": {
      "text/html": [
       "<div>\n",
       "<style scoped>\n",
       "    .dataframe tbody tr th:only-of-type {\n",
       "        vertical-align: middle;\n",
       "    }\n",
       "\n",
       "    .dataframe tbody tr th {\n",
       "        vertical-align: top;\n",
       "    }\n",
       "\n",
       "    .dataframe thead th {\n",
       "        text-align: right;\n",
       "    }\n",
       "</style>\n",
       "<table border=\"1\" class=\"dataframe\">\n",
       "  <thead>\n",
       "    <tr style=\"text-align: right;\">\n",
       "      <th></th>\n",
       "      <th>X1</th>\n",
       "      <th>X2</th>\n",
       "      <th>X3</th>\n",
       "      <th>X4</th>\n",
       "      <th>X5</th>\n",
       "      <th>X6</th>\n",
       "      <th>X7</th>\n",
       "      <th>X8</th>\n",
       "      <th>X9</th>\n",
       "      <th>X10</th>\n",
       "      <th>X11</th>\n",
       "      <th>X12</th>\n",
       "      <th>X13</th>\n",
       "      <th>X14</th>\n",
       "      <th>X15</th>\n",
       "    </tr>\n",
       "  </thead>\n",
       "  <tbody>\n",
       "    <tr>\n",
       "      <th>0</th>\n",
       "      <td>50000.0</td>\n",
       "      <td>2.0</td>\n",
       "      <td>1.0</td>\n",
       "      <td>2.0</td>\n",
       "      <td>25.0</td>\n",
       "      <td>0.0</td>\n",
       "      <td>0.0</td>\n",
       "      <td>0.0</td>\n",
       "      <td>0.0</td>\n",
       "      <td>0.0</td>\n",
       "      <td>0.0</td>\n",
       "      <td>45342.0</td>\n",
       "      <td>44719.0</td>\n",
       "      <td>40002.0</td>\n",
       "      <td>38008.0</td>\n",
       "    </tr>\n",
       "    <tr>\n",
       "      <th>1</th>\n",
       "      <td>120000.0</td>\n",
       "      <td>2.0</td>\n",
       "      <td>2.0</td>\n",
       "      <td>2.0</td>\n",
       "      <td>24.0</td>\n",
       "      <td>0.0</td>\n",
       "      <td>0.0</td>\n",
       "      <td>0.0</td>\n",
       "      <td>0.0</td>\n",
       "      <td>0.0</td>\n",
       "      <td>-1.0</td>\n",
       "      <td>11296.0</td>\n",
       "      <td>12200.0</td>\n",
       "      <td>11761.0</td>\n",
       "      <td>6761.0</td>\n",
       "    </tr>\n",
       "    <tr>\n",
       "      <th>2</th>\n",
       "      <td>120000.0</td>\n",
       "      <td>2.0</td>\n",
       "      <td>2.0</td>\n",
       "      <td>2.0</td>\n",
       "      <td>27.0</td>\n",
       "      <td>1.0</td>\n",
       "      <td>-2.0</td>\n",
       "      <td>-1.0</td>\n",
       "      <td>-1.0</td>\n",
       "      <td>-2.0</td>\n",
       "      <td>-2.0</td>\n",
       "      <td>0.0</td>\n",
       "      <td>0.0</td>\n",
       "      <td>2382.0</td>\n",
       "      <td>0.0</td>\n",
       "    </tr>\n",
       "    <tr>\n",
       "      <th>3</th>\n",
       "      <td>60000.0</td>\n",
       "      <td>1.0</td>\n",
       "      <td>1.0</td>\n",
       "      <td>2.0</td>\n",
       "      <td>28.0</td>\n",
       "      <td>0.0</td>\n",
       "      <td>-1.0</td>\n",
       "      <td>0.0</td>\n",
       "      <td>0.0</td>\n",
       "      <td>-1.0</td>\n",
       "      <td>2.0</td>\n",
       "      <td>2295.0</td>\n",
       "      <td>5293.0</td>\n",
       "      <td>13421.0</td>\n",
       "      <td>9900.0</td>\n",
       "    </tr>\n",
       "    <tr>\n",
       "      <th>4</th>\n",
       "      <td>100000.0</td>\n",
       "      <td>2.0</td>\n",
       "      <td>1.0</td>\n",
       "      <td>2.0</td>\n",
       "      <td>28.0</td>\n",
       "      <td>3.0</td>\n",
       "      <td>2.0</td>\n",
       "      <td>0.0</td>\n",
       "      <td>0.0</td>\n",
       "      <td>2.0</td>\n",
       "      <td>0.0</td>\n",
       "      <td>49961.0</td>\n",
       "      <td>48856.0</td>\n",
       "      <td>49899.0</td>\n",
       "      <td>53407.0</td>\n",
       "    </tr>\n",
       "  </tbody>\n",
       "</table>\n",
       "</div>"
      ],
      "text/plain": [
       "         X1   X2   X3   X4    X5   X6   X7   X8   X9  X10  X11      X12  \\\n",
       "0   50000.0  2.0  1.0  2.0  25.0  0.0  0.0  0.0  0.0  0.0  0.0  45342.0   \n",
       "1  120000.0  2.0  2.0  2.0  24.0  0.0  0.0  0.0  0.0  0.0 -1.0  11296.0   \n",
       "2  120000.0  2.0  2.0  2.0  27.0  1.0 -2.0 -1.0 -1.0 -2.0 -2.0      0.0   \n",
       "3   60000.0  1.0  1.0  2.0  28.0  0.0 -1.0  0.0  0.0 -1.0  2.0   2295.0   \n",
       "4  100000.0  2.0  1.0  2.0  28.0  3.0  2.0  0.0  0.0  2.0  0.0  49961.0   \n",
       "\n",
       "       X13      X14      X15  \n",
       "0  44719.0  40002.0  38008.0  \n",
       "1  12200.0  11761.0   6761.0  \n",
       "2      0.0   2382.0      0.0  \n",
       "3   5293.0  13421.0   9900.0  \n",
       "4  48856.0  49899.0  53407.0  "
      ]
     },
     "execution_count": 73,
     "metadata": {},
     "output_type": "execute_result"
    }
   ],
   "source": [
    "test=test.loc[:,['X1', 'X2', 'X3', 'X4', 'X5', 'X6', 'X7','X8', 'X9', 'X10', 'X11', 'X12', 'X13', 'X14','X15']]\n",
    "test.head()"
   ]
  },
  {
   "cell_type": "code",
   "execution_count": 91,
   "metadata": {},
   "outputs": [
    {
     "name": "stdout",
     "output_type": "stream",
     "text": [
      "<class 'pandas.core.frame.DataFrame'>\n",
      "RangeIndex: 21600 entries, 0 to 21599\n",
      "Data columns (total 15 columns):\n",
      "X1     2399 non-null float64\n",
      "X2     2399 non-null float64\n",
      "X3     2399 non-null float64\n",
      "X4     2399 non-null float64\n",
      "X5     2399 non-null float64\n",
      "X6     2399 non-null float64\n",
      "X7     2399 non-null float64\n",
      "X8     2399 non-null float64\n",
      "X9     2399 non-null float64\n",
      "X10    2399 non-null float64\n",
      "X11    2399 non-null float64\n",
      "X12    2399 non-null float64\n",
      "X13    2399 non-null float64\n",
      "X14    2399 non-null float64\n",
      "X15    2399 non-null float64\n",
      "dtypes: float64(15)\n",
      "memory usage: 2.5 MB\n"
     ]
    }
   ],
   "source": [
    "test.info()"
   ]
  },
  {
   "cell_type": "code",
   "execution_count": 18,
   "metadata": {},
   "outputs": [],
   "source": [
    "#citi.columns=['Ref_No','credit_amount','gender','education','marital_status','age','sep_hist','aug_hist','Y']\n",
    "#test.columns=['credit_amount','gender','education','marital_status','age','sep_hist','aug_hist']\n",
    "#citi.columns"
   ]
  },
  {
   "cell_type": "code",
   "execution_count": 74,
   "metadata": {},
   "outputs": [
    {
     "name": "stdout",
     "output_type": "stream",
     "text": [
      "<class 'pandas.core.frame.DataFrame'>\n",
      "RangeIndex: 21600 entries, 0 to 21599\n",
      "Data columns (total 17 columns):\n",
      "Ref.No    21600 non-null int64\n",
      "X1        21600 non-null int64\n",
      "X2        21600 non-null int64\n",
      "X3        21600 non-null int64\n",
      "X4        21600 non-null int64\n",
      "X5        21600 non-null int64\n",
      "X6        21600 non-null int64\n",
      "X7        21600 non-null int64\n",
      "X8        21600 non-null int64\n",
      "X9        21600 non-null int64\n",
      "X10       21600 non-null int64\n",
      "X11       21600 non-null int64\n",
      "X12       21600 non-null int64\n",
      "X13       21600 non-null int64\n",
      "X14       21600 non-null int64\n",
      "X15       21600 non-null int64\n",
      "Y         21600 non-null int64\n",
      "dtypes: int64(17)\n",
      "memory usage: 2.8 MB\n"
     ]
    }
   ],
   "source": [
    "citi.info()\n",
    "# No null values"
   ]
  },
  {
   "cell_type": "code",
   "execution_count": 78,
   "metadata": {},
   "outputs": [],
   "source": [
    "df=citi.copy()"
   ]
  },
  {
   "cell_type": "code",
   "execution_count": 95,
   "metadata": {},
   "outputs": [],
   "source": [
    "y = df[['Y']]\n",
    "X = df.drop(['X10','X4'], axis = 1)"
   ]
  },
  {
   "cell_type": "code",
   "execution_count": 80,
   "metadata": {},
   "outputs": [
    {
     "data": {
      "text/plain": [
       "Index(['X1', 'X2', 'X3', 'X4', 'X5', 'X6', 'X7', 'X8', 'X9', 'X10', 'X11',\n",
       "       'X12', 'X13', 'X14', 'X15'],\n",
       "      dtype='object')"
      ]
     },
     "execution_count": 80,
     "metadata": {},
     "output_type": "execute_result"
    }
   ],
   "source": [
    "X.columns"
   ]
  },
  {
   "cell_type": "code",
   "execution_count": 36,
   "metadata": {},
   "outputs": [],
   "source": [
    "#dummy_df=X[['gender', 'education', 'marital_status', 'sep_hist', 'aug_hist']]\n",
    "#X = X.drop(['gender', 'education', 'marital_status', 'sep_hist', 'aug_hist'], axis = 1)"
   ]
  },
  {
   "cell_type": "code",
   "execution_count": 37,
   "metadata": {},
   "outputs": [],
   "source": [
    "#dummy_df=pd.get_dummies(dummy_df, prefix=['gender', 'edu', 'marital_status', 'sep', 'aug'], columns=['gender', 'education', 'marital_status', 'sep_hist', 'aug_hist'], drop_first=True)\n",
    "#dummy_df.head()"
   ]
  },
  {
   "cell_type": "code",
   "execution_count": 81,
   "metadata": {},
   "outputs": [
    {
     "data": {
      "text/plain": [
       "(21600, 15)"
      ]
     },
     "execution_count": 81,
     "metadata": {},
     "output_type": "execute_result"
    }
   ],
   "source": [
    "X.shape"
   ]
  },
  {
   "cell_type": "code",
   "execution_count": 25,
   "metadata": {},
   "outputs": [],
   "source": [
    "#X = pd.concat([X, dummy_df], axis=1, join='inner')"
   ]
  },
  {
   "cell_type": "code",
   "execution_count": 83,
   "metadata": {},
   "outputs": [
    {
     "data": {
      "text/plain": [
       "(21600, 1)"
      ]
     },
     "execution_count": 83,
     "metadata": {},
     "output_type": "execute_result"
    }
   ],
   "source": [
    "y.shape"
   ]
  },
  {
   "cell_type": "code",
   "execution_count": 96,
   "metadata": {},
   "outputs": [],
   "source": [
    "def classficationModelAccuracies(x, y, model):\n",
    "    model1 = model\n",
    "    ## split data into train and test\n",
    "    seed = 10\n",
    "    x_train, x_test, y_train, y_test = train_test_split(x, y, test_size = 0.3, random_state = seed)\n",
    "    ## Train the model with train data\n",
    "    model1.fit(x_train, y_train)\n",
    "    \n",
    "    ## Train accuracies\n",
    "    predictedClass = model1.predict(x_train)\n",
    "    cMatrix = metrics.confusion_matrix(predictedClass, y_train)\n",
    "    cMatrix\n",
    "    # Classification accuracy\n",
    "    trainClassificationAccuracy = (cMatrix[0][0] + cMatrix[1][1])/sum(sum(cMatrix))\n",
    "    ## TP percentage\n",
    "    trainTpPct = (cMatrix[1][1])/(cMatrix[1][0] + cMatrix[1][1])\n",
    "    ## FP = Flase postive -> does not have disease but predicted as having disease\n",
    "    # FP percentage\n",
    "    trainFpPct = (cMatrix[0][1])/(cMatrix[0][0] + cMatrix[0][1])\n",
    "    trainAccuracies = [len(y_train), trainClassificationAccuracy, trainTpPct, trainFpPct]\n",
    "    \n",
    "    ## Test accuracies\n",
    "    predictedClass = model1.predict(x_test)\n",
    "    cMatrix = metrics.confusion_matrix(predictedClass, y_test)\n",
    "    cMatrix\n",
    "    # Classification accuracy\n",
    "    testClassificationAccuracy = (cMatrix[0][0] + cMatrix[1][1])/sum(sum(cMatrix))\n",
    "    ## TP percentage\n",
    "    testTpPct = (cMatrix[1][1])/(cMatrix[1][0] + cMatrix[1][1])\n",
    "    ## FP = Flase postive -> does not have disease but predicted as having disease\n",
    "    # FP percentage\n",
    "    testFpPct = (cMatrix[0][1])/(cMatrix[0][0] + cMatrix[0][1])\n",
    "    testAccuracies = [len(y_test), testClassificationAccuracy, testTpPct, testFpPct]\n",
    "    \n",
    "    ## Results\n",
    "    resultDf = pd.DataFrame(index = [\"dataSize\", \"accuracy\", \"tpPct\", \"fpPct\"])\n",
    "    resultDf['train'] = trainAccuracies\n",
    "    resultDf['test'] = testAccuracies\n",
    "    \n",
    "    return(round(resultDf, 4))"
   ]
  },
  {
   "cell_type": "code",
   "execution_count": 97,
   "metadata": {},
   "outputs": [
    {
     "name": "stderr",
     "output_type": "stream",
     "text": [
      "C:\\Users\\hp\\Anaconda3\\lib\\site-packages\\sklearn\\utils\\validation.py:578: DataConversionWarning: A column-vector y was passed when a 1d array was expected. Please change the shape of y to (n_samples, ), for example using ravel().\n",
      "  y = column_or_1d(y, warn=True)\n"
     ]
    },
    {
     "data": {
      "text/html": [
       "<div>\n",
       "<style scoped>\n",
       "    .dataframe tbody tr th:only-of-type {\n",
       "        vertical-align: middle;\n",
       "    }\n",
       "\n",
       "    .dataframe tbody tr th {\n",
       "        vertical-align: top;\n",
       "    }\n",
       "\n",
       "    .dataframe thead th {\n",
       "        text-align: right;\n",
       "    }\n",
       "</style>\n",
       "<table border=\"1\" class=\"dataframe\">\n",
       "  <thead>\n",
       "    <tr style=\"text-align: right;\">\n",
       "      <th></th>\n",
       "      <th>train</th>\n",
       "      <th>test</th>\n",
       "    </tr>\n",
       "  </thead>\n",
       "  <tbody>\n",
       "    <tr>\n",
       "      <th>dataSize</th>\n",
       "      <td>15120.0000</td>\n",
       "      <td>6480.0000</td>\n",
       "    </tr>\n",
       "    <tr>\n",
       "      <th>accuracy</th>\n",
       "      <td>0.7770</td>\n",
       "      <td>0.7739</td>\n",
       "    </tr>\n",
       "    <tr>\n",
       "      <th>tpPct</th>\n",
       "      <td>0.0000</td>\n",
       "      <td>0.0000</td>\n",
       "    </tr>\n",
       "    <tr>\n",
       "      <th>fpPct</th>\n",
       "      <td>0.2229</td>\n",
       "      <td>0.2260</td>\n",
       "    </tr>\n",
       "  </tbody>\n",
       "</table>\n",
       "</div>"
      ],
      "text/plain": [
       "               train       test\n",
       "dataSize  15120.0000  6480.0000\n",
       "accuracy      0.7770     0.7739\n",
       "tpPct         0.0000     0.0000\n",
       "fpPct         0.2229     0.2260"
      ]
     },
     "execution_count": 97,
     "metadata": {},
     "output_type": "execute_result"
    }
   ],
   "source": [
    "model=LogisticRegression()\n",
    "classficationModelAccuracies(X, y, model)"
   ]
  },
  {
   "cell_type": "code",
   "execution_count": 98,
   "metadata": {},
   "outputs": [],
   "source": [
    "solution.to_csv(\"solution_basic_logistic.csv\", index=False)"
   ]
  },
  {
   "cell_type": "markdown",
   "metadata": {},
   "source": [
    "### Decission Tree"
   ]
  },
  {
   "cell_type": "code",
   "execution_count": 59,
   "metadata": {},
   "outputs": [],
   "source": [
    "from sklearn.tree import DecisionTreeClassifier\n",
    "#DecisionTreeClassifier is the corresponding Classifier\n",
    "DTClassifier = DecisionTreeClassifier (max_depth=5, random_state = 0,max_features=6 , criterion='entropy')"
   ]
  },
  {
   "cell_type": "code",
   "execution_count": 60,
   "metadata": {},
   "outputs": [
    {
     "data": {
      "text/html": [
       "<div>\n",
       "<style scoped>\n",
       "    .dataframe tbody tr th:only-of-type {\n",
       "        vertical-align: middle;\n",
       "    }\n",
       "\n",
       "    .dataframe tbody tr th {\n",
       "        vertical-align: top;\n",
       "    }\n",
       "\n",
       "    .dataframe thead th {\n",
       "        text-align: right;\n",
       "    }\n",
       "</style>\n",
       "<table border=\"1\" class=\"dataframe\">\n",
       "  <thead>\n",
       "    <tr style=\"text-align: right;\">\n",
       "      <th></th>\n",
       "      <th>train</th>\n",
       "      <th>test</th>\n",
       "    </tr>\n",
       "  </thead>\n",
       "  <tbody>\n",
       "    <tr>\n",
       "      <th>dataSize</th>\n",
       "      <td>15120.0000</td>\n",
       "      <td>6480.0000</td>\n",
       "    </tr>\n",
       "    <tr>\n",
       "      <th>accuracy</th>\n",
       "      <td>0.8146</td>\n",
       "      <td>0.8076</td>\n",
       "    </tr>\n",
       "    <tr>\n",
       "      <th>tpPct</th>\n",
       "      <td>0.6976</td>\n",
       "      <td>0.6753</td>\n",
       "    </tr>\n",
       "    <tr>\n",
       "      <th>fpPct</th>\n",
       "      <td>0.1731</td>\n",
       "      <td>0.1785</td>\n",
       "    </tr>\n",
       "  </tbody>\n",
       "</table>\n",
       "</div>"
      ],
      "text/plain": [
       "               train       test\n",
       "dataSize  15120.0000  6480.0000\n",
       "accuracy      0.8146     0.8076\n",
       "tpPct         0.6976     0.6753\n",
       "fpPct         0.1731     0.1785"
      ]
     },
     "execution_count": 60,
     "metadata": {},
     "output_type": "execute_result"
    }
   ],
   "source": [
    "model=DTClassifier\n",
    "classficationModelAccuracies(X, y, model)"
   ]
  },
  {
   "cell_type": "code",
   "execution_count": 50,
   "metadata": {},
   "outputs": [],
   "source": [
    "solution.to_csv(\"solution_DTClassifier.csv\", index=False)"
   ]
  },
  {
   "cell_type": "markdown",
   "metadata": {},
   "source": [
    "### random forest"
   ]
  },
  {
   "cell_type": "code",
   "execution_count": 63,
   "metadata": {},
   "outputs": [
    {
     "name": "stderr",
     "output_type": "stream",
     "text": [
      "C:\\Users\\hp\\Anaconda3\\lib\\site-packages\\sklearn\\ensemble\\weight_boosting.py:29: DeprecationWarning: numpy.core.umath_tests is an internal NumPy module and should not be imported. It will be removed in a future NumPy release.\n",
      "  from numpy.core.umath_tests import inner1d\n"
     ]
    }
   ],
   "source": [
    "from sklearn.ensemble import RandomForestClassifier\n",
    "RFClassifier = RandomForestClassifier(n_estimators = 10, random_state = 0, max_depth=3)"
   ]
  },
  {
   "cell_type": "code",
   "execution_count": 64,
   "metadata": {
    "scrolled": true
   },
   "outputs": [
    {
     "name": "stderr",
     "output_type": "stream",
     "text": [
      "C:\\Users\\hp\\Anaconda3\\lib\\site-packages\\ipykernel_launcher.py:7: DataConversionWarning: A column-vector y was passed when a 1d array was expected. Please change the shape of y to (n_samples,), for example using ravel().\n",
      "  import sys\n"
     ]
    },
    {
     "data": {
      "text/html": [
       "<div>\n",
       "<style scoped>\n",
       "    .dataframe tbody tr th:only-of-type {\n",
       "        vertical-align: middle;\n",
       "    }\n",
       "\n",
       "    .dataframe tbody tr th {\n",
       "        vertical-align: top;\n",
       "    }\n",
       "\n",
       "    .dataframe thead th {\n",
       "        text-align: right;\n",
       "    }\n",
       "</style>\n",
       "<table border=\"1\" class=\"dataframe\">\n",
       "  <thead>\n",
       "    <tr style=\"text-align: right;\">\n",
       "      <th></th>\n",
       "      <th>train</th>\n",
       "      <th>test</th>\n",
       "    </tr>\n",
       "  </thead>\n",
       "  <tbody>\n",
       "    <tr>\n",
       "      <th>dataSize</th>\n",
       "      <td>15120.0000</td>\n",
       "      <td>6480.0000</td>\n",
       "    </tr>\n",
       "    <tr>\n",
       "      <th>accuracy</th>\n",
       "      <td>0.8093</td>\n",
       "      <td>0.8066</td>\n",
       "    </tr>\n",
       "    <tr>\n",
       "      <th>tpPct</th>\n",
       "      <td>0.6950</td>\n",
       "      <td>0.7017</td>\n",
       "    </tr>\n",
       "    <tr>\n",
       "      <th>fpPct</th>\n",
       "      <td>0.1805</td>\n",
       "      <td>0.1842</td>\n",
       "    </tr>\n",
       "  </tbody>\n",
       "</table>\n",
       "</div>"
      ],
      "text/plain": [
       "               train       test\n",
       "dataSize  15120.0000  6480.0000\n",
       "accuracy      0.8093     0.8066\n",
       "tpPct         0.6950     0.7017\n",
       "fpPct         0.1805     0.1842"
      ]
     },
     "execution_count": 64,
     "metadata": {},
     "output_type": "execute_result"
    }
   ],
   "source": [
    "model=RFClassifier\n",
    "classficationModelAccuracies(X, y, model)"
   ]
  },
  {
   "cell_type": "code",
   "execution_count": 92,
   "metadata": {},
   "outputs": [],
   "source": [
    "def VIF(X):\n",
    "    from statsmodels.stats.outliers_influence import variance_inflation_factor\n",
    "    data_mat=X.as_matrix()\n",
    "    vif=[variance_inflation_factor(data_mat,i) for i in range(data_mat.shape[1])]\n",
    "    vif_factor = pd.DataFrame()\n",
    "    vif_factor[\"columns\"] = X.columns\n",
    "    vif_factor[\"vif\"] = vif\n",
    "    return(vif_factor)"
   ]
  },
  {
   "cell_type": "code",
   "execution_count": 93,
   "metadata": {},
   "outputs": [
    {
     "name": "stderr",
     "output_type": "stream",
     "text": [
      "C:\\Users\\hp\\Anaconda3\\lib\\site-packages\\ipykernel_launcher.py:3: FutureWarning: Method .as_matrix will be removed in a future version. Use .values instead.\n",
      "  This is separate from the ipykernel package so we can avoid doing imports until\n"
     ]
    }
   ],
   "source": [
    "vif_df=VIF(X)"
   ]
  },
  {
   "cell_type": "markdown",
   "metadata": {},
   "source": [
    "#### In an iterative way takeout all VIF values greater than 5"
   ]
  },
  {
   "cell_type": "code",
   "execution_count": 94,
   "metadata": {},
   "outputs": [
    {
     "name": "stderr",
     "output_type": "stream",
     "text": [
      "C:\\Users\\hp\\Anaconda3\\lib\\site-packages\\ipykernel_launcher.py:3: FutureWarning: Method .as_matrix will be removed in a future version. Use .values instead.\n",
      "  This is separate from the ipykernel package so we can avoid doing imports until\n"
     ]
    },
    {
     "data": {
      "text/html": [
       "<div>\n",
       "<style scoped>\n",
       "    .dataframe tbody tr th:only-of-type {\n",
       "        vertical-align: middle;\n",
       "    }\n",
       "\n",
       "    .dataframe tbody tr th {\n",
       "        vertical-align: top;\n",
       "    }\n",
       "\n",
       "    .dataframe thead th {\n",
       "        text-align: right;\n",
       "    }\n",
       "</style>\n",
       "<table border=\"1\" class=\"dataframe\">\n",
       "  <thead>\n",
       "    <tr style=\"text-align: right;\">\n",
       "      <th></th>\n",
       "      <th>columns</th>\n",
       "      <th>vif</th>\n",
       "    </tr>\n",
       "  </thead>\n",
       "  <tbody>\n",
       "    <tr>\n",
       "      <th>0</th>\n",
       "      <td>X1</td>\n",
       "      <td>3.022000</td>\n",
       "    </tr>\n",
       "    <tr>\n",
       "      <th>1</th>\n",
       "      <td>X3</td>\n",
       "      <td>3.923627</td>\n",
       "    </tr>\n",
       "    <tr>\n",
       "      <th>2</th>\n",
       "      <td>X4</td>\n",
       "      <td>4.458713</td>\n",
       "    </tr>\n",
       "    <tr>\n",
       "      <th>3</th>\n",
       "      <td>X6</td>\n",
       "      <td>1.884679</td>\n",
       "    </tr>\n",
       "    <tr>\n",
       "      <th>4</th>\n",
       "      <td>X7</td>\n",
       "      <td>3.164135</td>\n",
       "    </tr>\n",
       "    <tr>\n",
       "      <th>5</th>\n",
       "      <td>X8</td>\n",
       "      <td>3.682607</td>\n",
       "    </tr>\n",
       "    <tr>\n",
       "      <th>6</th>\n",
       "      <td>X9</td>\n",
       "      <td>4.434688</td>\n",
       "    </tr>\n",
       "    <tr>\n",
       "      <th>7</th>\n",
       "      <td>X10</td>\n",
       "      <td>4.753138</td>\n",
       "    </tr>\n",
       "    <tr>\n",
       "      <th>8</th>\n",
       "      <td>X11</td>\n",
       "      <td>3.236397</td>\n",
       "    </tr>\n",
       "    <tr>\n",
       "      <th>9</th>\n",
       "      <td>X12</td>\n",
       "      <td>1.889045</td>\n",
       "    </tr>\n",
       "  </tbody>\n",
       "</table>\n",
       "</div>"
      ],
      "text/plain": [
       "  columns       vif\n",
       "0      X1  3.022000\n",
       "1      X3  3.923627\n",
       "2      X4  4.458713\n",
       "3      X6  1.884679\n",
       "4      X7  3.164135\n",
       "5      X8  3.682607\n",
       "6      X9  4.434688\n",
       "7     X10  4.753138\n",
       "8     X11  3.236397\n",
       "9     X12  1.889045"
      ]
     },
     "execution_count": 94,
     "metadata": {},
     "output_type": "execute_result"
    }
   ],
   "source": [
    "while vif_df.vif.max()>5:\n",
    "    drop_column=list(vif_df[vif_df.vif==vif_df.vif.max()]['columns'].values)\n",
    "    X.drop(drop_column,axis=1, inplace=True)\n",
    "    vif_df=VIF(X)\n",
    "vif_df"
   ]
  },
  {
   "cell_type": "code",
   "execution_count": null,
   "metadata": {},
   "outputs": [],
   "source": [
    "test=test.loc[:,['credit_amount', 'education', 'marital_status', 'sep_hist', 'aug_hist']]"
   ]
  },
  {
   "cell_type": "code",
   "execution_count": null,
   "metadata": {},
   "outputs": [],
   "source": []
  },
  {
   "cell_type": "code",
   "execution_count": null,
   "metadata": {},
   "outputs": [],
   "source": []
  },
  {
   "cell_type": "code",
   "execution_count": null,
   "metadata": {},
   "outputs": [],
   "source": []
  },
  {
   "cell_type": "code",
   "execution_count": null,
   "metadata": {},
   "outputs": [],
   "source": []
  },
  {
   "cell_type": "code",
   "execution_count": null,
   "metadata": {},
   "outputs": [],
   "source": []
  },
  {
   "cell_type": "markdown",
   "metadata": {},
   "source": [
    "# Adding extra columns"
   ]
  },
  {
   "cell_type": "code",
   "execution_count": 8,
   "metadata": {},
   "outputs": [
    {
     "data": {
      "text/plain": [
       "Index(['Ref.No', 'X1', 'X2', 'X3', 'X4', 'X5', 'X6', 'X7', 'X8', 'X9', 'X10',\n",
       "       'X11', 'X12', 'X13', 'X14', 'X15', 'Y'],\n",
       "      dtype='object')"
      ]
     },
     "execution_count": 8,
     "metadata": {},
     "output_type": "execute_result"
    }
   ],
   "source": [
    "citi = pd.read_csv('C:\\\\Users\\\\hp\\\\Desktop\\\\Great Lakes\\\\Supervised Learning\\\\Kaggle Competetion\\\\Knn\\\\train.csv')\n",
    "citi.columns"
   ]
  },
  {
   "cell_type": "code",
   "execution_count": null,
   "metadata": {},
   "outputs": [],
   "source": []
  },
  {
   "cell_type": "code",
   "execution_count": null,
   "metadata": {},
   "outputs": [],
   "source": []
  }
 ],
 "metadata": {
  "kernelspec": {
   "display_name": "Python 3",
   "language": "python",
   "name": "python3"
  },
  "language_info": {
   "codemirror_mode": {
    "name": "ipython",
    "version": 3
   },
   "file_extension": ".py",
   "mimetype": "text/x-python",
   "name": "python",
   "nbconvert_exporter": "python",
   "pygments_lexer": "ipython3",
   "version": "3.6.5"
  }
 },
 "nbformat": 4,
 "nbformat_minor": 2
}
