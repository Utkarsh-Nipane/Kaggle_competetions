{
 "cells": [
  {
   "cell_type": "code",
   "execution_count": null,
   "metadata": {},
   "outputs": [],
   "source": [
    "#==============================================================================\n",
    "# Import libraries\n",
    "#==============================================================================\n",
    "import numpy as np\n",
    "import matplotlib.pyplot as plt\n",
    "import pandas as pd\n",
    "import seaborn as sns\n",
    "import pandasql \n",
    "from pandasql import sqldf\n",
    "pysqldf = lambda q: sqldf(q, globals())"
   ]
  },
  {
   "cell_type": "code",
   "execution_count": null,
   "metadata": {},
   "outputs": [],
   "source": [
    "train1 = pd.read_csv(\"train1.csv\")\n",
    "train2 = pd.read_csv(\"train2.csv\")\n",
    "train3 = pd.read_csv(\"train3.csv\")\n",
    "test_data = pd.read_csv(\"test_credit.csv\")"
   ]
  },
  {
   "cell_type": "code",
   "execution_count": null,
   "metadata": {},
   "outputs": [],
   "source": [
    "print(train1.columns)\n",
    "print(train2.columns)\n",
    "print(train3.columns)"
   ]
  },
  {
   "cell_type": "code",
   "execution_count": null,
   "metadata": {},
   "outputs": [],
   "source": [
    "train_data_1_2 = pd.merge(train1,train2, how=\"inner\", on=\"Ref.No\")\n",
    "train_data = pd.merge(train_data_1_2,train3, how=\"inner\", on=\"Ref.No\")"
   ]
  },
  {
   "cell_type": "code",
   "execution_count": null,
   "metadata": {},
   "outputs": [],
   "source": [
    "defaulter = train_data.pop('Y')\n",
    "train_data['Y'] = defaulter"
   ]
  },
  {
   "cell_type": "code",
   "execution_count": null,
   "metadata": {},
   "outputs": [],
   "source": [
    "train_data.head(1)"
   ]
  },
  {
   "cell_type": "code",
   "execution_count": null,
   "metadata": {},
   "outputs": [],
   "source": [
    "train_data.columns = [\"Ref_No\",\"Credit_Limit\",\"Gender\",\"Education\",\"Marital_Status\",\"Age\",\"Repayment_Sept\",\"Repayment_Aug\",\n",
    "                      \"Repayment_July\",\"Repayment_June\",\"Repayment_May\",\"Repayment_April\",\"Bill_Amt_Sept\",\"Bill_Amt_Aug\",\n",
    "                      \"Bill_Amt_July\",\"Bill_Amt_June\",\"Bill_Amt_May\",\"Bill_Amt_April\",\"Amt_Paid_Sept\",\"Amt_Paid_Aug\",\n",
    "                       \"Amt_Paid_July\",\"Amt_Paid_June\",\"Amt_Paid_May\",\"Amt_Paid_April\",\"Y\"]"
   ]
  },
  {
   "cell_type": "code",
   "execution_count": null,
   "metadata": {},
   "outputs": [],
   "source": [
    "train_data.columns"
   ]
  },
  {
   "cell_type": "code",
   "execution_count": null,
   "metadata": {},
   "outputs": [],
   "source": [
    "test_data.columns = [\"Ref_No\",\"Credit_Limit\",\"Gender\",\"Education\",\"Marital_Status\",\"Age\",\"Repayment_Sept\",\"Repayment_Aug\",\n",
    "                      \"Repayment_July\",\"Repayment_June\",\"Repayment_May\",\"Repayment_April\",\"Bill_Amt_Sept\",\"Bill_Amt_Aug\",\n",
    "                      \"Bill_Amt_July\",\"Bill_Amt_June\",\"Bill_Amt_May\",\"Bill_Amt_April\",\"Amt_Paid_Sept\",\"Amt_Paid_Aug\",\n",
    "                       \"Amt_Paid_July\",\"Amt_Paid_June\",\"Amt_Paid_May\",\"Amt_Paid_April\",\"Y\"]"
   ]
  },
  {
   "cell_type": "code",
   "execution_count": null,
   "metadata": {},
   "outputs": [],
   "source": [
    "test_data.columns"
   ]
  },
  {
   "cell_type": "code",
   "execution_count": null,
   "metadata": {},
   "outputs": [],
   "source": [
    "train_data[\"Bal_Amt_Sept\"] = train_data[\"Bill_Amt_Sept\"] - train_data[\"Amt_Paid_Sept\"]\n",
    "train_data[\"Bal_Amt_Aug\"] = train_data[\"Bill_Amt_Aug\"] - train_data[\"Amt_Paid_Aug\"]\n",
    "train_data[\"Bal_Amt_July\"] = train_data[\"Bill_Amt_July\"] - train_data[\"Amt_Paid_July\"]\n",
    "train_data[\"Bal_Amt_June\"] = train_data[\"Bill_Amt_June\"] - train_data[\"Amt_Paid_June\"]\n",
    "train_data[\"Bal_Amt_May\"] = train_data[\"Bill_Amt_May\"] - train_data[\"Amt_Paid_May\"]\n",
    "train_data[\"Bal_Amt_April\"] = train_data[\"Bill_Amt_April\"] - train_data[\"Amt_Paid_April\"]"
   ]
  },
  {
   "cell_type": "code",
   "execution_count": null,
   "metadata": {},
   "outputs": [],
   "source": [
    "train_data = train_data.drop([\"Bill_Amt_Sept\",\"Bill_Amt_Aug\",\n",
    "                      \"Bill_Amt_July\",\"Bill_Amt_June\",\"Bill_Amt_May\",\"Bill_Amt_April\",\"Amt_Paid_Sept\",\"Amt_Paid_Aug\",\n",
    "                       \"Amt_Paid_July\",\"Amt_Paid_June\",\"Amt_Paid_May\",\"Amt_Paid_April\"], axis = 1)"
   ]
  },
  {
   "cell_type": "code",
   "execution_count": null,
   "metadata": {},
   "outputs": [],
   "source": [
    "defaulter = train_data.pop('Y')\n",
    "train_data['Y'] = defaulter"
   ]
  },
  {
   "cell_type": "code",
   "execution_count": null,
   "metadata": {},
   "outputs": [],
   "source": [
    "train_data.columns"
   ]
  },
  {
   "cell_type": "code",
   "execution_count": null,
   "metadata": {},
   "outputs": [],
   "source": [
    "test_data[\"Bal_Amt_Sept\"] = test_data[\"Bill_Amt_Sept\"] - test_data[\"Amt_Paid_Sept\"]\n",
    "test_data[\"Bal_Amt_Aug\"] = test_data[\"Bill_Amt_Aug\"] - test_data[\"Amt_Paid_Aug\"]\n",
    "test_data[\"Bal_Amt_July\"] = test_data[\"Bill_Amt_July\"] - test_data[\"Amt_Paid_July\"]\n",
    "test_data[\"Bal_Amt_June\"] = test_data[\"Bill_Amt_June\"] - test_data[\"Amt_Paid_June\"]\n",
    "test_data[\"Bal_Amt_May\"] = test_data[\"Bill_Amt_May\"] - test_data[\"Amt_Paid_May\"]\n",
    "test_data[\"Bal_Amt_April\"] = test_data[\"Bill_Amt_April\"] - test_data[\"Amt_Paid_April\"]"
   ]
  },
  {
   "cell_type": "code",
   "execution_count": null,
   "metadata": {},
   "outputs": [],
   "source": [
    "test_data = test_data.drop([\"Bill_Amt_Sept\",\"Bill_Amt_Aug\",\n",
    "                      \"Bill_Amt_July\",\"Bill_Amt_June\",\"Bill_Amt_May\",\"Bill_Amt_April\",\"Amt_Paid_Sept\",\"Amt_Paid_Aug\",\n",
    "                       \"Amt_Paid_July\",\"Amt_Paid_June\",\"Amt_Paid_May\",\"Amt_Paid_April\"], axis = 1)"
   ]
  },
  {
   "cell_type": "code",
   "execution_count": null,
   "metadata": {},
   "outputs": [],
   "source": [
    "test_data.columns"
   ]
  },
  {
   "cell_type": "code",
   "execution_count": null,
   "metadata": {},
   "outputs": [],
   "source": [
    "defaulter = test_data.pop('Y')\n",
    "test_data['Y'] = defaulter"
   ]
  },
  {
   "cell_type": "code",
   "execution_count": null,
   "metadata": {},
   "outputs": [],
   "source": [
    "test_data.head(1)"
   ]
  },
  {
   "cell_type": "markdown",
   "metadata": {},
   "source": [
    "# Exploratory Data Analysis"
   ]
  },
  {
   "cell_type": "code",
   "execution_count": null,
   "metadata": {},
   "outputs": [],
   "source": [
    "print(train_data.quantile(q=0.25, axis = 0))\n",
    "print(train_data.quantile(q=0.75, axis = 0))"
   ]
  },
  {
   "cell_type": "code",
   "execution_count": null,
   "metadata": {},
   "outputs": [],
   "source": [
    "query = '''SELECT count(*) as count FROM train_data WHERE Y = 1 GROUP BY Gender'''\n",
    "count_def_gen = pysqldf(query)"
   ]
  },
  {
   "cell_type": "code",
   "execution_count": null,
   "metadata": {},
   "outputs": [],
   "source": [
    "query = '''SELECT count(*) as count FROM train_data WHERE Y = 0 GROUP BY Gender'''\n",
    "count_ndef_gen = pysqldf(query)"
   ]
  },
  {
   "cell_type": "code",
   "execution_count": null,
   "metadata": {},
   "outputs": [],
   "source": [
    "query = '''SELECT count(*) as count FROM train_data WHERE Y = 1 GROUP BY Education'''\n",
    "count_def_edu = pysqldf(query)"
   ]
  },
  {
   "cell_type": "code",
   "execution_count": null,
   "metadata": {},
   "outputs": [],
   "source": [
    "query = '''SELECT count(*) as count FROM train_data WHERE Y = 0 GROUP BY Education'''\n",
    "count_ndef_edu = pysqldf(query)"
   ]
  },
  {
   "cell_type": "code",
   "execution_count": null,
   "metadata": {},
   "outputs": [],
   "source": [
    "query = '''SELECT count(*) as count FROM train_data WHERE Y = 1 GROUP BY Marital_Status'''\n",
    "count_def_mstat = pysqldf(query)"
   ]
  },
  {
   "cell_type": "code",
   "execution_count": null,
   "metadata": {},
   "outputs": [],
   "source": [
    "query = '''SELECT count(*) as count FROM train_data WHERE Y = 0 GROUP BY Marital_Status'''\n",
    "count_ndef_mstat = pysqldf(query)"
   ]
  },
  {
   "cell_type": "code",
   "execution_count": null,
   "metadata": {},
   "outputs": [],
   "source": [
    "train_data.groupby(\"Gender\").count().iloc[0,1]"
   ]
  },
  {
   "cell_type": "code",
   "execution_count": null,
   "metadata": {},
   "outputs": [],
   "source": [
    "train_data.groupby(\"Gender\").count().iloc[1,1]"
   ]
  },
  {
   "cell_type": "code",
   "execution_count": null,
   "metadata": {},
   "outputs": [],
   "source": [
    "count_def_gen.iloc[0,0]"
   ]
  },
  {
   "cell_type": "code",
   "execution_count": null,
   "metadata": {
    "scrolled": true
   },
   "outputs": [],
   "source": [
    "count_def_gen.iloc[1,0]"
   ]
  },
  {
   "cell_type": "code",
   "execution_count": null,
   "metadata": {},
   "outputs": [],
   "source": [
    "train_data.info()"
   ]
  },
  {
   "cell_type": "markdown",
   "metadata": {},
   "source": [
    "# Splitting data into train and validation"
   ]
  },
  {
   "cell_type": "code",
   "execution_count": null,
   "metadata": {},
   "outputs": [],
   "source": [
    "X = train_data.iloc [:,1:18].values\n",
    "Y = train_data.iloc [:, 18].values\n",
    "print(X)\n",
    "print(Y)"
   ]
  },
  {
   "cell_type": "code",
   "execution_count": null,
   "metadata": {},
   "outputs": [],
   "source": [
    "from sklearn.cross_validation import train_test_split\n",
    "X_train, X_valid, Y_train, Y_valid = train_test_split (X, Y, test_size = 0.3, \n",
    "                                                     random_state = 7)"
   ]
  },
  {
   "cell_type": "code",
   "execution_count": null,
   "metadata": {},
   "outputs": [],
   "source": [
    "from sklearn.ensemble import RandomForestRegressor\n",
    "RFregressor = RandomForestRegressor(n_estimators = 5, random_state = 0)\n",
    "RFregressor.fit(X, y)"
   ]
  },
  {
   "cell_type": "code",
   "execution_count": null,
   "metadata": {},
   "outputs": [],
   "source": []
  }
 ],
 "metadata": {
  "kernelspec": {
   "display_name": "Python 3",
   "language": "python",
   "name": "python3"
  },
  "language_info": {
   "codemirror_mode": {
    "name": "ipython",
    "version": 3
   },
   "file_extension": ".py",
   "mimetype": "text/x-python",
   "name": "python",
   "nbconvert_exporter": "python",
   "pygments_lexer": "ipython3",
   "version": "3.6.5"
  }
 },
 "nbformat": 4,
 "nbformat_minor": 2
}
